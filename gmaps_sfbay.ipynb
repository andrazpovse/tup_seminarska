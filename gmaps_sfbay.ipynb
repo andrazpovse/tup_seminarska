{
 "cells": [
  {
   "cell_type": "code",
   "execution_count": 149,
   "metadata": {},
   "outputs": [],
   "source": [
    "import time\n",
    "import pymysql\n",
    "\n",
    "import matplotlib.pyplot as plt\n",
    "import matplotlib.ticker as ticker\n",
    "import datetime\n",
    "import pandas as pd\n",
    "import seaborn as sns\n",
    "import csv\n",
    "import numpy as np\n",
    "\n",
    "class database_queries:\n",
    "    def __int__(self):\n",
    "        pass\n",
    "    def connect(self):\n",
    "        conn = None\n",
    "        while conn is None:\n",
    "            try:\n",
    "                # your host(localhost), username, password, database\n",
    "                conn = pymysql.connect(unix_socket='/var/run/mysqld/mysqld.sock', user='root', passwd='ep',\n",
    "                                       db='sf_bay_bike_share')\n",
    "\n",
    "            except Exception as exc:\n",
    "                print(\"Neuspesna povezava na podatkovno bazo. Ponovni poskus cez 1s...\", exc)\n",
    "                time.sleep(1)\n",
    "        return conn\n",
    "    \n",
    "    def hm_query(self, start, end):\n",
    "        connection = self.connect()\n",
    "        df = pd.read_sql('''\n",
    "SELECT \n",
    "    stn.long, stn.lat,\n",
    "    AVG(sts.bikes_available / stn.dock_count) AS avg_load\n",
    "FROM\n",
    "    status sts\n",
    "        JOIN\n",
    "    station stn ON sts.station_id = stn.id\n",
    "WHERE\n",
    "    HOUR(time) >= %(start)s AND HOUR(time) <= %(end)s\n",
    "GROUP BY station_id\n",
    "''', con=connection, params={\"start\": start, \"end\": end})\n",
    "\n",
    "        # cursor.close()\n",
    "        connection.close()\n",
    "        return df\n",
    "\n",
    "q = database_queries()\n",
    "\n",
    "def getdf(start, end):\n",
    "    df = q.hm_query(start,end)\n",
    "    return df\n",
    "\n",
    "def draw(df):\n",
    "    locations = df[[\"lat\", \"long\"]]\n",
    "    weights = [(2**(2*el)-1) for el in df[\"avg_load\"]]\n",
    "    fig = gmaps.figure()\n",
    "    fig.add_layer(gmaps.heatmap_layer(locations, weights=weights, point_radius=40))\n",
    "    return fig\n"
   ]
  },
  {
   "cell_type": "code",
   "execution_count": 152,
   "metadata": {},
   "outputs": [],
   "source": [
    "df1 = getdf(5,7)"
   ]
  },
  {
   "cell_type": "code",
   "execution_count": 153,
   "metadata": {
    "scrolled": false
   },
   "outputs": [
    {
     "data": {
      "application/vnd.jupyter.widget-view+json": {
       "model_id": "dfd887b8d8764c6eb6cb167ebfddfff0",
       "version_major": 2,
       "version_minor": 0
      },
      "text/html": [
       "<p>Failed to display Jupyter Widget of type <code>Figure</code>.</p>\n",
       "<p>\n",
       "  If you're reading this message in the Jupyter Notebook or JupyterLab Notebook, it may mean\n",
       "  that the widgets JavaScript is still loading. If this message persists, it\n",
       "  likely means that the widgets JavaScript library is either not installed or\n",
       "  not enabled. See the <a href=\"https://ipywidgets.readthedocs.io/en/stable/user_install.html\">Jupyter\n",
       "  Widgets Documentation</a> for setup instructions.\n",
       "</p>\n",
       "<p>\n",
       "  If you're reading this message in another frontend (for example, a static\n",
       "  rendering on GitHub or <a href=\"https://nbviewer.jupyter.org/\">NBViewer</a>),\n",
       "  it may mean that your frontend doesn't currently support widgets.\n",
       "</p>\n"
      ],
      "text/plain": [
       "Figure()"
      ]
     },
     "metadata": {},
     "output_type": "display_data"
    }
   ],
   "source": [
    "draw(df1)"
   ]
  },
  {
   "cell_type": "code",
   "execution_count": 138,
   "metadata": {},
   "outputs": [],
   "source": [
    "df2 = getdf(12,14)"
   ]
  },
  {
   "cell_type": "code",
   "execution_count": 151,
   "metadata": {
    "scrolled": false
   },
   "outputs": [
    {
     "data": {
      "application/vnd.jupyter.widget-view+json": {
       "model_id": "7b2445071f0e49499c7cee5c963410b8",
       "version_major": 2,
       "version_minor": 0
      },
      "text/html": [
       "<p>Failed to display Jupyter Widget of type <code>Figure</code>.</p>\n",
       "<p>\n",
       "  If you're reading this message in the Jupyter Notebook or JupyterLab Notebook, it may mean\n",
       "  that the widgets JavaScript is still loading. If this message persists, it\n",
       "  likely means that the widgets JavaScript library is either not installed or\n",
       "  not enabled. See the <a href=\"https://ipywidgets.readthedocs.io/en/stable/user_install.html\">Jupyter\n",
       "  Widgets Documentation</a> for setup instructions.\n",
       "</p>\n",
       "<p>\n",
       "  If you're reading this message in another frontend (for example, a static\n",
       "  rendering on GitHub or <a href=\"https://nbviewer.jupyter.org/\">NBViewer</a>),\n",
       "  it may mean that your frontend doesn't currently support widgets.\n",
       "</p>\n"
      ],
      "text/plain": [
       "Figure()"
      ]
     },
     "metadata": {},
     "output_type": "display_data"
    }
   ],
   "source": [
    "draw(df2)"
   ]
  }
 ],
 "metadata": {
  "kernelspec": {
   "display_name": "Python 3",
   "language": "python",
   "name": "python3"
  },
  "language_info": {
   "codemirror_mode": {
    "name": "ipython",
    "version": 3
   },
   "file_extension": ".py",
   "mimetype": "text/x-python",
   "name": "python",
   "nbconvert_exporter": "python",
   "pygments_lexer": "ipython3",
   "version": "3.6.3"
  }
 },
 "nbformat": 4,
 "nbformat_minor": 2
}
